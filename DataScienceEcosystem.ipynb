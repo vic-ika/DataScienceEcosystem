{
 "cells": [
  {
   "cell_type": "markdown",
   "id": "2f78bcb7-e00d-446b-856d-46ce1bd85922",
   "metadata": {},
   "source": [
    "# Data Science Tools and Ecosystem"
   ]
  },
  {
   "cell_type": "markdown",
   "id": "5b538a67-2ec6-4322-b02a-a8e2ee74a002",
   "metadata": {},
   "source": [
    "In this notebook, Data Science Tools and Ecosystem are summarized"
   ]
  },
  {
   "cell_type": "markdown",
   "id": "95292e39-a487-45cc-a560-999012d480c7",
   "metadata": {},
   "source": [
    "**Objectives:**\n",
    "* List popular languages that Data Scientists use\n",
    "* List popular libraries that Data Scientists use\n",
    "* List some open source Data Science Tools\n",
    "* Show some examples of arithmetic expressions in Python\n"
   ]
  },
  {
   "cell_type": "markdown",
   "id": "64526754-a8c6-4532-b3cf-faa9924da027",
   "metadata": {},
   "source": [
    "Some of the popular languages that Data Scientist use are:\n",
    "1. Python\n",
    "2. SQL\n",
    "3. Java\n",
    "4. Scala\n",
    "5. C++"
   ]
  },
  {
   "cell_type": "markdown",
   "id": "43776dcb-7c9f-4e19-bfc2-7b40554d878b",
   "metadata": {},
   "source": [
    "Some of the commonly used libraries used by Data Scientists include:\n",
    "1. Pandas\n",
    "2. TensorFlow\n",
    "3. NumPy\n",
    "4. SciPy\n",
    "5. Scrapy\n"
   ]
  },
  {
   "cell_type": "markdown",
   "id": "20a87b07-8202-46d6-ab4a-2a0bdaedd8bb",
   "metadata": {},
   "source": [
    "| Data Science Tools |\n",
    "|--------------------|\n",
    "| Apache Spark |\n",
    "| TensorFlow |\n",
    "| Apache Hadoop |\n"
   ]
  },
  {
   "cell_type": "markdown",
   "id": "c54f932a-27b0-421f-a975-fc0dfc229a6f",
   "metadata": {},
   "source": [
    "### Below are a few examples of evaluating arithmetic expressions in Python"
   ]
  },
  {
   "cell_type": "code",
   "execution_count": 14,
   "id": "3a34717d-e9ab-4200-a2f4-7fa59ee55f27",
   "metadata": {
    "tags": []
   },
   "outputs": [
    {
     "data": {
      "text/plain": [
       "17"
      ]
     },
     "execution_count": 14,
     "metadata": {},
     "output_type": "execute_result"
    }
   ],
   "source": [
    "# This is a simple arithmetic expression to multiply and then add integers\n",
    "(3*4)+5"
   ]
  },
  {
   "cell_type": "code",
   "execution_count": 15,
   "id": "343fa36f-e72d-4e42-b464-8837b7b46bf7",
   "metadata": {
    "tags": []
   },
   "outputs": [
    {
     "data": {
      "text/plain": [
       "(3, 20)"
      ]
     },
     "execution_count": 15,
     "metadata": {},
     "output_type": "execute_result"
    }
   ],
   "source": [
    "# This will convert 200 minutes to hours by dividing by 60.\n",
    "divmod(200, 60)"
   ]
  },
  {
   "cell_type": "markdown",
   "id": "c796ddf7-3ea4-499b-8515-399e3366257e",
   "metadata": {},
   "source": [
    "## Author\n",
    "Victor Samuel Ika"
   ]
  },
  {
   "cell_type": "code",
   "execution_count": null,
   "id": "b8a8c179-0a80-46e9-8326-927ad37e760a",
   "metadata": {},
   "outputs": [],
   "source": []
  }
 ],
 "metadata": {
  "kernelspec": {
   "display_name": "Python",
   "language": "python",
   "name": "conda-env-python-py"
  },
  "language_info": {
   "codemirror_mode": {
    "name": "ipython",
    "version": 3
   },
   "file_extension": ".py",
   "mimetype": "text/x-python",
   "name": "python",
   "nbconvert_exporter": "python",
   "pygments_lexer": "ipython3",
   "version": "3.7.12"
  }
 },
 "nbformat": 4,
 "nbformat_minor": 5
}
